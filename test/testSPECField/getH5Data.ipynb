{
 "cells": [
  {
   "cell_type": "code",
   "execution_count": 2,
   "metadata": {},
   "outputs": [],
   "source": [
    "import numpy as np\n",
    "from mpy import SPECOut, SPECField\n",
    "\n",
    "for resolution in [32, 64, 128]:\n",
    "    bField = SPECField(SPECOut(\"test.sp.h5\"), lvol=0, sResolution=resolution, thetaResolution=resolution, zetaResolution=resolution)\n",
    "    bField.getB(writeH5=\"bData_\"+str(resolution)+\".h5\")\n",
    "    bField.getJacobian(writeH5=\"jacobianData_\"+str(resolution)+\".h5\")\n",
    "    bField.getGrid(writeH5=\"gridData_\"+str(resolution)+\".h5\")"
   ]
  }
 ],
 "metadata": {
  "kernelspec": {
   "display_name": "Python 3.10.8 ('lkpy')",
   "language": "python",
   "name": "python3"
  },
  "language_info": {
   "codemirror_mode": {
    "name": "ipython",
    "version": 3
   },
   "file_extension": ".py",
   "mimetype": "text/x-python",
   "name": "python",
   "nbconvert_exporter": "python",
   "pygments_lexer": "ipython3",
   "version": "3.10.8"
  },
  "orig_nbformat": 4,
  "vscode": {
   "interpreter": {
    "hash": "22c41828c06fb51b1b4c5e69954069d29f912dd6a2de9427bbf55f69244fd812"
   }
  }
 },
 "nbformat": 4,
 "nbformat_minor": 2
}
